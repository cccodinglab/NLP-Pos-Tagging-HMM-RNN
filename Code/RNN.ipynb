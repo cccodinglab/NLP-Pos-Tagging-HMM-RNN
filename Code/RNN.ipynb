{
 "cells": [
  {
   "cell_type": "code",
   "execution_count": 1,
   "metadata": {},
   "outputs": [
    {
     "name": "stderr",
     "output_type": "stream",
     "text": [
      "/Users/he/opt/anaconda3/lib/python3.7/site-packages/sklearn/feature_extraction/image.py:167: DeprecationWarning: `np.int` is a deprecated alias for the builtin `int`. To silence this warning, use `int` by itself. Doing this will not modify any behavior and is safe. When replacing `np.int`, you may wish to use e.g. `np.int64` or `np.int32` to specify the precision. If you wish to review your current use, check the release note link for additional information.\n",
      "Deprecated in NumPy 1.20; for more details and guidance: https://numpy.org/devdocs/release/1.20.0-notes.html#deprecations\n",
      "  dtype=np.int):\n",
      "/Users/he/opt/anaconda3/lib/python3.7/site-packages/sklearn/linear_model/least_angle.py:30: DeprecationWarning: `np.float` is a deprecated alias for the builtin `float`. To silence this warning, use `float` by itself. Doing this will not modify any behavior and is safe. If you specifically wanted the numpy scalar type, use `np.float64` here.\n",
      "Deprecated in NumPy 1.20; for more details and guidance: https://numpy.org/devdocs/release/1.20.0-notes.html#deprecations\n",
      "  method='lar', copy_X=True, eps=np.finfo(np.float).eps,\n",
      "/Users/he/opt/anaconda3/lib/python3.7/site-packages/sklearn/linear_model/least_angle.py:167: DeprecationWarning: `np.float` is a deprecated alias for the builtin `float`. To silence this warning, use `float` by itself. Doing this will not modify any behavior and is safe. If you specifically wanted the numpy scalar type, use `np.float64` here.\n",
      "Deprecated in NumPy 1.20; for more details and guidance: https://numpy.org/devdocs/release/1.20.0-notes.html#deprecations\n",
      "  method='lar', copy_X=True, eps=np.finfo(np.float).eps,\n",
      "/Users/he/opt/anaconda3/lib/python3.7/site-packages/sklearn/linear_model/least_angle.py:284: DeprecationWarning: `np.float` is a deprecated alias for the builtin `float`. To silence this warning, use `float` by itself. Doing this will not modify any behavior and is safe. If you specifically wanted the numpy scalar type, use `np.float64` here.\n",
      "Deprecated in NumPy 1.20; for more details and guidance: https://numpy.org/devdocs/release/1.20.0-notes.html#deprecations\n",
      "  eps=np.finfo(np.float).eps, copy_Gram=True, verbose=0,\n",
      "/Users/he/opt/anaconda3/lib/python3.7/site-packages/sklearn/linear_model/least_angle.py:862: DeprecationWarning: `np.float` is a deprecated alias for the builtin `float`. To silence this warning, use `float` by itself. Doing this will not modify any behavior and is safe. If you specifically wanted the numpy scalar type, use `np.float64` here.\n",
      "Deprecated in NumPy 1.20; for more details and guidance: https://numpy.org/devdocs/release/1.20.0-notes.html#deprecations\n",
      "  eps=np.finfo(np.float).eps, copy_X=True, fit_path=True,\n",
      "/Users/he/opt/anaconda3/lib/python3.7/site-packages/sklearn/linear_model/least_angle.py:1101: DeprecationWarning: `np.float` is a deprecated alias for the builtin `float`. To silence this warning, use `float` by itself. Doing this will not modify any behavior and is safe. If you specifically wanted the numpy scalar type, use `np.float64` here.\n",
      "Deprecated in NumPy 1.20; for more details and guidance: https://numpy.org/devdocs/release/1.20.0-notes.html#deprecations\n",
      "  eps=np.finfo(np.float).eps, copy_X=True, fit_path=True,\n",
      "/Users/he/opt/anaconda3/lib/python3.7/site-packages/sklearn/linear_model/least_angle.py:1127: DeprecationWarning: `np.float` is a deprecated alias for the builtin `float`. To silence this warning, use `float` by itself. Doing this will not modify any behavior and is safe. If you specifically wanted the numpy scalar type, use `np.float64` here.\n",
      "Deprecated in NumPy 1.20; for more details and guidance: https://numpy.org/devdocs/release/1.20.0-notes.html#deprecations\n",
      "  eps=np.finfo(np.float).eps, positive=False):\n",
      "/Users/he/opt/anaconda3/lib/python3.7/site-packages/sklearn/linear_model/least_angle.py:1362: DeprecationWarning: `np.float` is a deprecated alias for the builtin `float`. To silence this warning, use `float` by itself. Doing this will not modify any behavior and is safe. If you specifically wanted the numpy scalar type, use `np.float64` here.\n",
      "Deprecated in NumPy 1.20; for more details and guidance: https://numpy.org/devdocs/release/1.20.0-notes.html#deprecations\n",
      "  max_n_alphas=1000, n_jobs=None, eps=np.finfo(np.float).eps,\n",
      "/Users/he/opt/anaconda3/lib/python3.7/site-packages/sklearn/linear_model/least_angle.py:1602: DeprecationWarning: `np.float` is a deprecated alias for the builtin `float`. To silence this warning, use `float` by itself. Doing this will not modify any behavior and is safe. If you specifically wanted the numpy scalar type, use `np.float64` here.\n",
      "Deprecated in NumPy 1.20; for more details and guidance: https://numpy.org/devdocs/release/1.20.0-notes.html#deprecations\n",
      "  max_n_alphas=1000, n_jobs=None, eps=np.finfo(np.float).eps,\n",
      "/Users/he/opt/anaconda3/lib/python3.7/site-packages/sklearn/linear_model/least_angle.py:1738: DeprecationWarning: `np.float` is a deprecated alias for the builtin `float`. To silence this warning, use `float` by itself. Doing this will not modify any behavior and is safe. If you specifically wanted the numpy scalar type, use `np.float64` here.\n",
      "Deprecated in NumPy 1.20; for more details and guidance: https://numpy.org/devdocs/release/1.20.0-notes.html#deprecations\n",
      "  eps=np.finfo(np.float).eps, copy_X=True, positive=False):\n"
     ]
    }
   ],
   "source": [
    "import warnings\n",
    "warnings.filterwarnings(\"ignore\")\n",
    "import numpy as np\n",
    "from matplotlib import pyplot as plt\n",
    "import nltk\n",
    "import random\n",
    "\n",
    "import seaborn as sns\n",
    "from gensim.models import KeyedVectors\n",
    "from keras.preprocessing.sequence import pad_sequences\n",
    "from keras.utils.np_utils import to_categorical\n",
    "from keras.models import Sequential\n",
    "from keras.layers import Embedding\n",
    "from keras.layers import Dense, Input\n",
    "from keras.layers import TimeDistributed\n",
    "from keras.layers import LSTM, GRU, Bidirectional, SimpleRNN, RNN\n",
    "from keras.models import Model\n",
    "from keras.preprocessing.text import Tokenizer\n",
    "\n",
    "from sklearn.model_selection import train_test_split\n",
    "from sklearn.utils import shuffle\n",
    "import pprint, time\n"
   ]
  },
  {
   "cell_type": "code",
   "execution_count": 2,
   "metadata": {
    "scrolled": true
   },
   "outputs": [
    {
     "name": "stderr",
     "output_type": "stream",
     "text": [
      "[nltk_data] Downloading package treebank to /Users/he/nltk_data...\n",
      "[nltk_data]   Package treebank is already up-to-date!\n",
      "[nltk_data] Downloading package universal_tagset to\n",
      "[nltk_data]     /Users/he/nltk_data...\n",
      "[nltk_data]   Package universal_tagset is already up-to-date!\n"
     ]
    }
   ],
   "source": [
    "nltk.download(\"treebank\")\n",
    "nltk.download(\"universal_tagset\")\n",
    "nltk_data = list(nltk.corpus.treebank.tagged_sents(tagset=\"universal\"))\n",
    "#print(nltk_data)[:2]"
   ]
  },
  {
   "cell_type": "code",
   "execution_count": null,
   "metadata": {},
   "outputs": [],
   "source": []
  },
  {
   "cell_type": "code",
   "execution_count": 3,
   "metadata": {},
   "outputs": [],
   "source": [
    "X = [] # store input sequence\n",
    "Y = [] # store output sequence\n",
    "\n",
    "for sentence in nltk_data:\n",
    "    X_sentence = []\n",
    "    Y_sentence = []\n",
    "    for entity in sentence:         \n",
    "        X_sentence.append(entity[0])  # entity[0] contains the word\n",
    "        Y_sentence.append(entity[1])  # entity[1] contains corresponding tag\n",
    "        \n",
    "    X.append(X_sentence)\n",
    "    Y.append(Y_sentence)"
   ]
  },
  {
   "cell_type": "code",
   "execution_count": 4,
   "metadata": {},
   "outputs": [],
   "source": [
    "num_words = len(set([word.lower() for sentence in X for word in sentence]))\n",
    "num_tags   = len(set([word.lower() for sentence in Y for word in sentence]))"
   ]
  },
  {
   "cell_type": "code",
   "execution_count": 5,
   "metadata": {},
   "outputs": [
    {
     "name": "stdout",
     "output_type": "stream",
     "text": [
      "Total number of tagged sentences: 3914\n",
      "Vocabulary size: 11387\n",
      "Total number of tags: 12\n"
     ]
    }
   ],
   "source": [
    "print(\"Total number of tagged sentences: {}\".format(len(X)))\n",
    "print(\"Vocabulary size: {}\".format(num_words))\n",
    "print(\"Total number of tags: {}\".format(num_tags))"
   ]
  },
  {
   "cell_type": "code",
   "execution_count": 6,
   "metadata": {},
   "outputs": [
    {
     "name": "stdout",
     "output_type": "stream",
     "text": [
      "sample X:  ['Pierre', 'Vinken', ',', '61', 'years', 'old', ',', 'will', 'join', 'the', 'board', 'as', 'a', 'nonexecutive', 'director', 'Nov.', '29', '.'] \n",
      "\n",
      "sample Y:  ['NOUN', 'NOUN', '.', 'NUM', 'NOUN', 'ADJ', '.', 'VERB', 'VERB', 'DET', 'NOUN', 'ADP', 'DET', 'ADJ', 'NOUN', 'NOUN', 'NUM', '.'] \n",
      "\n"
     ]
    }
   ],
   "source": [
    "print('sample X: ', X[0], '\\n')\n",
    "print('sample Y: ', Y[0], '\\n')"
   ]
  },
  {
   "cell_type": "code",
   "execution_count": 7,
   "metadata": {},
   "outputs": [],
   "source": [
    "word_tokenizer = Tokenizer()                      # instantiate tokeniser\n",
    "word_tokenizer.fit_on_texts(X)                    # fit tokeniser on data\n",
    "X_encoded = word_tokenizer.texts_to_sequences(X)  # use the tokeniser to encode input sequence"
   ]
  },
  {
   "cell_type": "code",
   "execution_count": 8,
   "metadata": {},
   "outputs": [],
   "source": [
    "tag_tokenizer = Tokenizer()\n",
    "tag_tokenizer.fit_on_texts(Y)\n",
    "Y_encoded = tag_tokenizer.texts_to_sequences(Y)"
   ]
  },
  {
   "cell_type": "code",
   "execution_count": null,
   "metadata": {},
   "outputs": [],
   "source": []
  },
  {
   "cell_type": "code",
   "execution_count": 9,
   "metadata": {},
   "outputs": [
    {
     "name": "stdout",
     "output_type": "stream",
     "text": [
      "** Raw data point ** \n",
      " ---------------------------------------------------------------------------------------------------- \n",
      "\n",
      "X:  ['Pierre', 'Vinken', ',', '61', 'years', 'old', ',', 'will', 'join', 'the', 'board', 'as', 'a', 'nonexecutive', 'director', 'Nov.', '29', '.'] \n",
      "\n",
      "Y:  ['NOUN', 'NOUN', '.', 'NUM', 'NOUN', 'ADJ', '.', 'VERB', 'VERB', 'DET', 'NOUN', 'ADP', 'DET', 'ADJ', 'NOUN', 'NOUN', 'NUM', '.'] \n",
      "\n",
      "\n",
      "** Encoded data point ** \n",
      " ---------------------------------------------------------------------------------------------------- \n",
      "\n",
      "X:  [5601, 3746, 1, 2024, 86, 331, 1, 46, 2405, 2, 131, 27, 6, 2025, 332, 459, 2026, 3] \n",
      "\n",
      "Y:  [1, 1, 3, 8, 1, 7, 3, 2, 2, 5, 1, 4, 5, 7, 1, 1, 8, 3] \n",
      "\n"
     ]
    }
   ],
   "source": [
    "print(\"** Raw data point **\", \"\\n\", \"-\"*100, \"\\n\")\n",
    "print('X: ', X[0], '\\n')\n",
    "print('Y: ', Y[0], '\\n')\n",
    "print()\n",
    "print(\"** Encoded data point **\", \"\\n\", \"-\"*100, \"\\n\")\n",
    "print('X: ', X_encoded[0], '\\n')\n",
    "print('Y: ', Y_encoded[0], '\\n')"
   ]
  },
  {
   "cell_type": "code",
   "execution_count": 10,
   "metadata": {},
   "outputs": [
    {
     "name": "stdout",
     "output_type": "stream",
     "text": [
      "Length of longest sentence: 271\n"
     ]
    }
   ],
   "source": [
    "lengths = [len(seq) for seq in X_encoded]\n",
    "print(\"Length of longest sentence: {}\".format(max(lengths)))"
   ]
  },
  {
   "cell_type": "code",
   "execution_count": 11,
   "metadata": {},
   "outputs": [
    {
     "data": {
      "image/png": "[encoded data removed]",
      "text/plain": [
       "<Figure size 432x288 with 1 Axes>"
      ]
     },
     "metadata": {
      "needs_background": "light"
     },
     "output_type": "display_data"
    }
   ],
   "source": [
    "sns.boxplot(lengths)\n",
    "plt.show()"
   ]
  },
  {
   "cell_type": "code",
   "execution_count": 12,
   "metadata": {},
   "outputs": [],
   "source": [
    "MAX_SEQ_LENGTH = 100  # sequences greater than 100 in length will be truncated\n",
    "start=time.time()\n",
    "X_padded = pad_sequences(X_encoded, maxlen=MAX_SEQ_LENGTH, padding=\"pre\", truncating=\"post\")\n",
    "Y_padded = pad_sequences(Y_encoded, maxlen=MAX_SEQ_LENGTH, padding=\"pre\", truncating=\"post\")\n",
    "#print(X_padded[0], \"\\n\"*3)\n",
    "#print(Y_padded[0])"
   ]
  },
  {
   "cell_type": "code",
   "execution_count": 13,
   "metadata": {},
   "outputs": [],
   "source": [
    "# assign padded sequences to X and Y\n",
    "X, Y = X_padded, Y_padded"
   ]
  },
  {
   "cell_type": "code",
   "execution_count": 14,
   "metadata": {},
   "outputs": [],
   "source": [
    "path = '../POS_tagging/GoogleNews-vectors-negative300.bin'\n",
    "word2vec = KeyedVectors.load_word2vec_format(path, binary=True)"
   ]
  },
  {
   "cell_type": "code",
   "execution_count": 15,
   "metadata": {},
   "outputs": [
    {
     "data": {
      "text/plain": [
       "[('Queen', 0.4929387867450714),\n",
       " ('Tupou_V.', 0.45174285769462585),\n",
       " ('Oprah_BFF_Gayle', 0.4422132968902588),\n",
       " ('Jackson', 0.440250426530838),\n",
       " ('NECN_Alison', 0.4331282675266266),\n",
       " ('Whitfield', 0.42834725975990295),\n",
       " ('Ida_Vandross', 0.42084527015686035),\n",
       " ('prosecutor_Dan_Satterberg', 0.420758992433548),\n",
       " ('martin_Luther_King', 0.42059651017189026),\n",
       " ('Coretta_King', 0.4202733635902405)]"
      ]
     },
     "execution_count": 15,
     "metadata": {},
     "output_type": "execute_result"
    }
   ],
   "source": [
    "word2vec.most_similar(positive = [\"King\", \"Woman\"], negative = [\"Man\"])"
   ]
  },
  {
   "cell_type": "code",
   "execution_count": 16,
   "metadata": {},
   "outputs": [],
   "source": [
    "EMBEDDING_SIZE  = 300  # each word in word2vec model is represented using a 300 dimensional vector\n",
    "VOCABULARY_SIZE = len(word_tokenizer.word_index) + 1\n",
    "\n",
    "# create an empty embedding matix\n",
    "embedding_weights = np.zeros((VOCABULARY_SIZE, EMBEDDING_SIZE))\n",
    "\n",
    "# create a word to index dictionary mapping\n",
    "word2id = word_tokenizer.word_index\n",
    "\n",
    "# copy vectors from word2vec model to the words present in corpus\n",
    "for word, index in word2id.items():\n",
    "    try:\n",
    "        embedding_weights[index, :] = word2vec[word]\n",
    "    except KeyError:\n",
    "        pass"
   ]
  },
  {
   "cell_type": "code",
   "execution_count": 17,
   "metadata": {},
   "outputs": [
    {
     "name": "stdout",
     "output_type": "stream",
     "text": [
      "Embeddings shape: (11388, 300)\n"
     ]
    }
   ],
   "source": [
    "print(\"Embeddings shape: {}\".format(embedding_weights.shape))"
   ]
  },
  {
   "cell_type": "code",
   "execution_count": 18,
   "metadata": {},
   "outputs": [
    {
     "data": {
      "text/plain": [
       "array([-1.57226562e-01, -1.07421875e-01, -3.14941406e-02,  4.78515625e-01,\n",
       "       -2.05078125e-01,  1.65039062e-01,  2.00195312e-01,  8.60595703e-03,\n",
       "       -1.19140625e-01,  2.34375000e-01, -2.09960938e-02, -8.54492188e-02,\n",
       "       -5.51757812e-02,  1.44531250e-01, -1.84570312e-01,  2.20703125e-01,\n",
       "       -6.10351562e-03,  1.04003906e-01,  3.63769531e-02, -1.85546875e-02,\n",
       "       -8.59375000e-02,  5.54199219e-02,  2.81250000e-01,  1.96289062e-01,\n",
       "       -7.91015625e-02, -2.73437500e-01, -3.83300781e-02, -7.22656250e-02,\n",
       "       -1.12304688e-01,  3.50952148e-03, -6.78710938e-02,  2.37304688e-01,\n",
       "       -8.78906250e-02, -1.41601562e-01, -4.78515625e-02, -1.78710938e-01,\n",
       "        1.46484375e-01, -1.25000000e-01, -5.83496094e-02,  2.48046875e-01,\n",
       "       -2.06298828e-02, -2.20703125e-01,  1.87500000e-01,  1.39648438e-01,\n",
       "        3.24707031e-02, -1.91650391e-02, -1.54296875e-01, -5.54199219e-02,\n",
       "       -2.05078125e-01,  1.03515625e-01, -1.10351562e-01, -5.54199219e-02,\n",
       "        3.29589844e-02, -1.21582031e-01, -2.35595703e-02, -3.75000000e-01,\n",
       "        1.26953125e-01, -2.16796875e-01, -3.71093750e-02,  9.88769531e-03,\n",
       "        3.19824219e-02,  1.47460938e-01, -1.57226562e-01,  1.42578125e-01,\n",
       "        3.18359375e-01, -1.52343750e-01, -2.79296875e-01,  1.12304688e-01,\n",
       "        1.03027344e-01, -3.27148438e-02,  2.73437500e-01,  5.66406250e-02,\n",
       "        1.38671875e-01, -7.47680664e-03, -2.14843750e-01, -4.78515625e-01,\n",
       "       -5.62500000e-01, -2.05078125e-02, -3.93066406e-02,  1.19628906e-01,\n",
       "       -9.27734375e-02, -9.03320312e-02,  2.09960938e-01,  1.22558594e-01,\n",
       "       -3.30078125e-01, -9.13085938e-02, -8.91113281e-03,  3.47656250e-01,\n",
       "       -4.73632812e-02, -1.34765625e-01, -1.24511719e-01, -7.81250000e-02,\n",
       "       -6.78710938e-02, -1.78710938e-01,  4.02832031e-03, -2.67578125e-01,\n",
       "        2.81250000e-01,  1.10839844e-01,  8.44726562e-02, -1.30859375e-01,\n",
       "       -8.44726562e-02, -8.88671875e-02,  7.17773438e-02,  1.79687500e-01,\n",
       "       -5.95703125e-02, -3.71093750e-01, -8.39843750e-02, -1.67968750e-01,\n",
       "       -2.46093750e-01, -4.73632812e-02, -1.51367188e-01, -3.24218750e-01,\n",
       "        6.03027344e-02, -1.46484375e-01,  7.76367188e-02, -8.30078125e-02,\n",
       "        2.12890625e-01, -2.26562500e-01, -2.03125000e-01,  7.86132812e-02,\n",
       "       -5.51757812e-02,  2.66113281e-02, -1.03027344e-01,  8.30078125e-02,\n",
       "       -1.39648438e-01,  9.03320312e-02, -2.08740234e-02,  6.07910156e-02,\n",
       "       -2.18505859e-02,  1.02050781e-01, -1.79687500e-01,  1.29882812e-01,\n",
       "        6.17675781e-02,  2.57812500e-01, -9.86328125e-02,  2.85156250e-01,\n",
       "        2.47070312e-01,  1.72851562e-01,  1.99218750e-01,  1.29882812e-01,\n",
       "        1.06445312e-01, -7.27539062e-02, -1.99218750e-01, -2.79296875e-01,\n",
       "       -5.83496094e-02, -2.09960938e-02,  2.34375000e-02, -1.27929688e-01,\n",
       "       -1.61132812e-02, -1.27929688e-01,  2.69775391e-02,  7.56835938e-02,\n",
       "       -1.14746094e-01,  2.28881836e-03, -6.22558594e-02, -8.05664062e-03,\n",
       "        4.94384766e-03, -1.91406250e-01, -1.97265625e-01, -4.66308594e-02,\n",
       "        7.56835938e-03,  2.38281250e-01, -3.71093750e-02,  6.93359375e-02,\n",
       "        6.49414062e-02, -2.08007812e-01,  2.61230469e-02,  5.90820312e-02,\n",
       "        2.43164062e-01, -1.89453125e-01, -6.13281250e-01,  3.22265625e-02,\n",
       "        1.30004883e-02,  3.30078125e-01, -7.71484375e-02, -1.96533203e-02,\n",
       "        2.71484375e-01,  2.10937500e-01, -2.03857422e-02,  1.55273438e-01,\n",
       "       -9.47265625e-02, -2.91015625e-01,  1.44531250e-01,  6.98852539e-03,\n",
       "        1.45507812e-01, -3.08593750e-01,  7.61718750e-02, -6.98242188e-02,\n",
       "       -8.15429688e-02, -2.61230469e-02,  7.81250000e-02, -3.93676758e-03,\n",
       "       -3.08837891e-02,  5.90820312e-02,  1.70707703e-04,  1.90429688e-01,\n",
       "        9.13085938e-02, -1.64062500e-01, -3.45703125e-01, -8.05664062e-02,\n",
       "       -2.80761719e-02, -1.31225586e-03, -2.92968750e-01, -1.20605469e-01,\n",
       "       -6.34765625e-02, -6.29882812e-02,  6.12792969e-02,  5.07812500e-02,\n",
       "       -1.20239258e-02, -3.06640625e-01, -2.11914062e-01,  2.05078125e-01,\n",
       "        1.97753906e-02,  1.13769531e-01, -1.05468750e-01,  2.73437500e-01,\n",
       "        1.61132812e-01, -1.24511719e-01, -3.68652344e-02, -1.59179688e-01,\n",
       "       -6.54296875e-02,  7.08007812e-02,  1.32812500e-01,  2.70996094e-02,\n",
       "        1.14257812e-01, -2.18505859e-02, -1.69372559e-03,  2.02636719e-02,\n",
       "        3.36914062e-02,  3.33786011e-04,  2.81250000e-01, -1.77734375e-01,\n",
       "       -6.78710938e-02, -2.95410156e-02,  3.24218750e-01, -1.08886719e-01,\n",
       "        7.17773438e-02,  1.52343750e-01, -1.27929688e-01, -1.47460938e-01,\n",
       "        7.86132812e-02,  1.34887695e-02, -2.13623047e-03, -2.06054688e-01,\n",
       "        1.88476562e-01, -2.55126953e-02,  7.66601562e-02,  6.50024414e-03,\n",
       "        9.08203125e-02,  1.26953125e-02,  1.45507812e-01,  3.56445312e-02,\n",
       "        1.75781250e-01, -1.28906250e-01, -2.14843750e-02, -3.65234375e-01,\n",
       "       -3.00781250e-01, -2.33398438e-01, -1.56250000e-01, -3.02734375e-02,\n",
       "       -1.02539062e-01,  3.54003906e-02, -1.82617188e-01,  1.25976562e-01,\n",
       "       -2.74658203e-03, -9.08203125e-02, -2.50000000e-01,  8.59375000e-02,\n",
       "        2.14843750e-02,  2.81982422e-02, -6.68945312e-02,  3.10546875e-01,\n",
       "        3.33984375e-01,  5.29785156e-02,  1.06933594e-01, -2.23632812e-01,\n",
       "       -2.61718750e-01, -4.95605469e-02, -4.15039062e-02, -2.75390625e-01,\n",
       "        1.04003906e-01,  4.90722656e-02,  1.20605469e-01,  7.91015625e-02,\n",
       "       -2.14843750e-01, -1.19018555e-02, -5.12695312e-02,  3.49609375e-01,\n",
       "       -7.32421875e-02,  2.69531250e-01, -1.98974609e-02,  8.39843750e-02,\n",
       "       -1.17797852e-02,  2.63671875e-01, -1.03027344e-01, -4.85839844e-02,\n",
       "       -2.21679688e-01, -4.83398438e-02,  2.09960938e-01, -5.17578125e-02])"
      ]
     },
     "execution_count": 18,
     "metadata": {},
     "output_type": "execute_result"
    }
   ],
   "source": [
    "# example of word embedding results\n",
    "embedding_weights[word_tokenizer.word_index['eat']]"
   ]
  },
  {
   "cell_type": "code",
   "execution_count": 19,
   "metadata": {},
   "outputs": [
    {
     "name": "stdout",
     "output_type": "stream",
     "text": [
      "(3914, 100, 13)\n"
     ]
    }
   ],
   "source": [
    "Y = to_categorical(Y)\n",
    "print(Y.shape)"
   ]
  },
  {
   "cell_type": "code",
   "execution_count": 20,
   "metadata": {},
   "outputs": [],
   "source": [
    "X_train, X_test, Y_train, Y_test = train_test_split(X, Y, test_size=0.2, random_state=121)\n",
    "X_train, X_validation, Y_train, Y_validation = train_test_split(X_train, Y_train, test_size=0.2, random_state=121)"
   ]
  },
  {
   "cell_type": "code",
   "execution_count": 21,
   "metadata": {},
   "outputs": [
    {
     "name": "stdout",
     "output_type": "stream",
     "text": [
      "TRAINING DATA\n",
      "Shape of input sequences: (2504, 100)\n",
      "Shape of output sequences: (2504, 100, 13)\n",
      "--------------------------------------------------\n",
      "VALIDATION DATA\n",
      "Shape of input sequences: (627, 100)\n",
      "Shape of output sequences: (627, 100, 13)\n",
      "--------------------------------------------------\n",
      "TESTING DATA\n",
      "Shape of input sequences: (783, 100)\n",
      "Shape of output sequences: (783, 100, 13)\n"
     ]
    }
   ],
   "source": [
    "print(\"TRAINING DATA\")\n",
    "print('Shape of input sequences: {}'.format(X_train.shape))\n",
    "print('Shape of output sequences: {}'.format(Y_train.shape))\n",
    "print(\"-\"*50)\n",
    "print(\"VALIDATION DATA\")\n",
    "print('Shape of input sequences: {}'.format(X_validation.shape))\n",
    "print('Shape of output sequences: {}'.format(Y_validation.shape))\n",
    "print(\"-\"*50)\n",
    "print(\"TESTING DATA\")\n",
    "print('Shape of input sequences: {}'.format(X_test.shape))\n",
    "print('Shape of output sequences: {}'.format(Y_test.shape))\n"
   ]
  },
  {
   "cell_type": "code",
   "execution_count": 22,
   "metadata": {},
   "outputs": [],
   "source": [
    "NUM_CLASSES = Y.shape[2]\n",
    "lstm_model = Sequential()\n",
    "lstm_model.add(Embedding(input_dim     = VOCABULARY_SIZE,         # vocabulary size - number of unique words in data\n",
    "                         output_dim    = EMBEDDING_SIZE,          # length of vector with which each word is represented\n",
    "                         input_length  = MAX_SEQ_LENGTH,          # length of input sequence\n",
    "                         weights       = [embedding_weights],     # word embedding matrix\n",
    "                         trainable     = True                     # True - update embeddings_weight matrix\n",
    "))\n",
    "lstm_model.add(LSTM(64, return_sequences=True))\n",
    "lstm_model.add(TimeDistributed(Dense(NUM_CLASSES, activation='softmax')))"
   ]
  },
  {
   "cell_type": "code",
   "execution_count": 23,
   "metadata": {},
   "outputs": [
    {
     "name": "stdout",
     "output_type": "stream",
     "text": [
      "111.18782711029053\n"
     ]
    }
   ],
   "source": [
    "lstm_model.compile(loss      =  'categorical_crossentropy',\n",
    "                   optimizer =  'adam',\n",
    "                   metrics   =  ['acc'])\n",
    "end=time.time()\n",
    "diff=end-start\n",
    "print(diff)"
   ]
  },
  {
   "cell_type": "code",
   "execution_count": 24,
   "metadata": {},
   "outputs": [
    {
     "name": "stdout",
     "output_type": "stream",
     "text": [
      "Model: \"sequential\"\n",
      "_________________________________________________________________\n",
      " Layer (type)                Output Shape              Param #   \n",
      "=================================================================\n",
      " embedding (Embedding)       (None, 100, 300)          3416400   \n",
      "                                                                 \n",
      " lstm (LSTM)                 (None, 100, 64)           93440     \n",
      "                                                                 \n",
      " time_distributed (TimeDistr  (None, 100, 13)          845       \n",
      " ibuted)                                                         \n",
      "                                                                 \n",
      "=================================================================\n",
      "Total params: 3,510,685\n",
      "Trainable params: 3,510,685\n",
      "Non-trainable params: 0\n",
      "_________________________________________________________________\n"
     ]
    }
   ],
   "source": [
    "lstm_model.summary()"
   ]
  },
  {
   "cell_type": "code",
   "execution_count": 25,
   "metadata": {},
   "outputs": [
    {
     "name": "stdout",
     "output_type": "stream",
     "text": [
      "Epoch 1/10\n",
      "20/20 [==============================] - 10s 315ms/step - loss: 1.8634 - acc: 0.7834 - val_loss: 0.9519 - val_acc: 0.7623\n",
      "Epoch 2/10\n",
      "20/20 [==============================] - 6s 289ms/step - loss: 0.7552 - acc: 0.7964 - val_loss: 0.6401 - val_acc: 0.8132\n",
      "Epoch 3/10\n",
      "20/20 [==============================] - 6s 284ms/step - loss: 0.6081 - acc: 0.8105 - val_loss: 0.5687 - val_acc: 0.8163\n",
      "Epoch 4/10\n",
      "20/20 [==============================] - 6s 301ms/step - loss: 0.5574 - acc: 0.8144 - val_loss: 0.5245 - val_acc: 0.8223\n",
      "Epoch 5/10\n",
      "20/20 [==============================] - 6s 306ms/step - loss: 0.5075 - acc: 0.8279 - val_loss: 0.4712 - val_acc: 0.8438\n",
      "Epoch 6/10\n",
      "20/20 [==============================] - 7s 369ms/step - loss: 0.4491 - acc: 0.8558 - val_loss: 0.4105 - val_acc: 0.8742\n",
      "Epoch 7/10\n",
      "20/20 [==============================] - 7s 361ms/step - loss: 0.3804 - acc: 0.8935 - val_loss: 0.3398 - val_acc: 0.9188\n",
      "Epoch 8/10\n",
      "20/20 [==============================] - 5s 261ms/step - loss: 0.3069 - acc: 0.9303 - val_loss: 0.2711 - val_acc: 0.9393\n",
      "Epoch 9/10\n",
      "20/20 [==============================] - 6s 277ms/step - loss: 0.2382 - acc: 0.9460 - val_loss: 0.2110 - val_acc: 0.9511\n",
      "Epoch 10/10\n",
      "20/20 [==============================] - 5s 274ms/step - loss: 0.1810 - acc: 0.9598 - val_loss: 0.1648 - val_acc: 0.9610\n"
     ]
    }
   ],
   "source": [
    "lstm_training = lstm_model.fit(X_train, Y_train, batch_size=128, epochs=10, validation_data=(X_validation, Y_validation))"
   ]
  },
  {
   "cell_type": "code",
   "execution_count": 26,
   "metadata": {},
   "outputs": [
    {
     "data": {
      "image/png": "[encoded data removed]",
      "text/plain": [
       "<Figure size 432x288 with 1 Axes>"
      ]
     },
     "metadata": {
      "needs_background": "light"
     },
     "output_type": "display_data"
    }
   ],
   "source": [
    "plt.plot(lstm_training.history['acc'])\n",
    "plt.plot(lstm_training.history['val_acc'])\n",
    "plt.title('LSTM: Model Accuracy')\n",
    "plt.ylabel('Accuracy')\n",
    "plt.xlabel('Epoch')\n",
    "plt.legend(['train', 'test'], loc=\"lower right\")\n",
    "plt.show()"
   ]
  },
  {
   "cell_type": "code",
   "execution_count": 27,
   "metadata": {},
   "outputs": [
    {
     "name": "stdout",
     "output_type": "stream",
     "text": [
      "25/25 [==============================] - 1s 26ms/step - loss: 0.1721 - acc: 0.9587\n"
     ]
    },
    {
     "data": {
      "text/plain": [
       "[0.17206509411334991, 0.9586973190307617]"
      ]
     },
     "execution_count": 27,
     "metadata": {},
     "output_type": "execute_result"
    }
   ],
   "source": [
    "lstm_model.evaluate(X_test,Y_test)"
   ]
  },
  {
   "cell_type": "code",
   "execution_count": 28,
   "metadata": {},
   "outputs": [
    {
     "name": "stdout",
     "output_type": "stream",
     "text": [
      "Model: \"sequential_1\"\n",
      "_________________________________________________________________\n",
      " Layer (type)                Output Shape              Param #   \n",
      "=================================================================\n",
      " embedding_1 (Embedding)     (None, 100, 300)          3416400   \n",
      "                                                                 \n",
      " bidirectional (Bidirectiona  (None, 100, 128)         186880    \n",
      " l)                                                              \n",
      "                                                                 \n",
      " time_distributed_1 (TimeDis  (None, 100, 13)          1677      \n",
      " tributed)                                                       \n",
      "                                                                 \n",
      "=================================================================\n",
      "Total params: 3,604,957\n",
      "Trainable params: 3,604,957\n",
      "Non-trainable params: 0\n",
      "_________________________________________________________________\n"
     ]
    }
   ],
   "source": [
    "bidirect_model = Sequential()\n",
    "bidirect_model.add(Embedding(input_dim = VOCABULARY_SIZE,\n",
    " output_dim = EMBEDDING_SIZE,\n",
    " input_length = MAX_SEQ_LENGTH,\n",
    " weights = [embedding_weights],\n",
    " trainable = True\n",
    "))\n",
    "bidirect_model.add(Bidirectional(LSTM(64, return_sequences=True)))\n",
    "bidirect_model.add(TimeDistributed(Dense(NUM_CLASSES, activation='softmax')))\n",
    "#compile model\n",
    "bidirect_model.compile(loss='categorical_crossentropy',\n",
    "              optimizer='adam',\n",
    "              metrics=['acc'])\n",
    "# check summary of model\n",
    "bidirect_model.summary()"
   ]
  },
  {
   "cell_type": "code",
   "execution_count": 29,
   "metadata": {},
   "outputs": [
    {
     "name": "stdout",
     "output_type": "stream",
     "text": [
      "Epoch 1/10\n",
      "20/20 [==============================] - 15s 494ms/step - loss: 1.6713 - acc: 0.7597 - val_loss: 0.6462 - val_acc: 0.7913\n",
      "Epoch 2/10\n",
      "20/20 [==============================] - 8s 416ms/step - loss: 0.6085 - acc: 0.8105 - val_loss: 0.5564 - val_acc: 0.8152\n",
      "Epoch 3/10\n",
      "20/20 [==============================] - 9s 464ms/step - loss: 0.5430 - acc: 0.8145 - val_loss: 0.5076 - val_acc: 0.8285\n",
      "Epoch 4/10\n",
      "20/20 [==============================] - 10s 498ms/step - loss: 0.4919 - acc: 0.8359 - val_loss: 0.4517 - val_acc: 0.8508\n",
      "Epoch 5/10\n",
      "20/20 [==============================] - 11s 566ms/step - loss: 0.4241 - acc: 0.8708 - val_loss: 0.3746 - val_acc: 0.8999\n",
      "Epoch 6/10\n",
      "20/20 [==============================] - 11s 529ms/step - loss: 0.3344 - acc: 0.9171 - val_loss: 0.2804 - val_acc: 0.9324\n",
      "Epoch 7/10\n",
      "20/20 [==============================] - 9s 448ms/step - loss: 0.2359 - acc: 0.9425 - val_loss: 0.1919 - val_acc: 0.9516\n",
      "Epoch 8/10\n",
      "20/20 [==============================] - 9s 475ms/step - loss: 0.1526 - acc: 0.9667 - val_loss: 0.1274 - val_acc: 0.9753\n",
      "Epoch 9/10\n",
      "20/20 [==============================] - 10s 509ms/step - loss: 0.0959 - acc: 0.9861 - val_loss: 0.0876 - val_acc: 0.9839\n",
      "Epoch 10/10\n",
      "20/20 [==============================] - 11s 560ms/step - loss: 0.0622 - acc: 0.9911 - val_loss: 0.0654 - val_acc: 0.9863\n"
     ]
    }
   ],
   "source": [
    "bidirect_training = bidirect_model.fit(X_train, Y_train, batch_size=128, epochs=10, validation_data=(X_validation, Y_validation))"
   ]
  },
  {
   "cell_type": "code",
   "execution_count": 30,
   "metadata": {},
   "outputs": [
    {
     "data": {
      "image/png": "[encoded data removed]",
      "text/plain": [
       "<Figure size 432x288 with 1 Axes>"
      ]
     },
     "metadata": {
      "needs_background": "light"
     },
     "output_type": "display_data"
    }
   ],
   "source": [
    "plt.plot(bidirect_training.history['acc'])\n",
    "plt.plot(bidirect_training.history['val_acc'])\n",
    "plt.title('Bidirectional LSTM: Model Accuracy')\n",
    "plt.ylabel('Accuracy')\n",
    "plt.xlabel('Epoch')\n",
    "plt.legend(['train', 'test'], loc=\"lower right\")\n",
    "plt.show()"
   ]
  },
  {
   "cell_type": "code",
   "execution_count": 31,
   "metadata": {},
   "outputs": [
    {
     "name": "stdout",
     "output_type": "stream",
     "text": [
      "25/25 [==============================] - 1s 44ms/step - loss: 0.0686 - acc: 0.9853\n"
     ]
    },
    {
     "data": {
      "text/plain": [
       "[0.06862455606460571, 0.9853384494781494]"
      ]
     },
     "execution_count": 31,
     "metadata": {},
     "output_type": "execute_result"
    }
   ],
   "source": [
    "bidirect_model.evaluate(X_test,Y_test)"
   ]
  },
  {
   "cell_type": "code",
   "execution_count": null,
   "metadata": {},
   "outputs": [],
   "source": []
  }
 ],
 "metadata": {
  "kernelspec": {
   "display_name": "Python 3",
   "language": "python",
   "name": "python3"
  },
  "language_info": {
   "codemirror_mode": {
    "name": "ipython",
    "version": 3
   },
   "file_extension": ".py",
   "mimetype": "text/x-python",
   "name": "python",
   "nbconvert_exporter": "python",
   "pygments_lexer": "ipython3",
   "version": "3.7.4"
  }
 },
 "nbformat": 4,
 "nbformat_minor": 2
}
